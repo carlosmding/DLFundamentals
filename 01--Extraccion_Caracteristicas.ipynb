{
  "nbformat": 4,
  "nbformat_minor": 0,
  "metadata": {
    "colab": {
      "provenance": [],
      "authorship_tag": "ABX9TyMOM8+YX10CkAZHa+1vLeMC",
      "include_colab_link": true
    },
    "kernelspec": {
      "name": "python3",
      "display_name": "Python 3"
    },
    "language_info": {
      "name": "python"
    }
  },
  "cells": [
    {
      "cell_type": "markdown",
      "metadata": {
        "id": "view-in-github",
        "colab_type": "text"
      },
      "source": [
        "<a href=\"https://colab.research.google.com/github/carlosmding/DLFundamentals/blob/main/01--Extraccion_Caracteristicas.ipynb\" target=\"_parent\"><img src=\"https://colab.research.google.com/assets/colab-badge.svg\" alt=\"Open In Colab\"/></a>"
      ]
    },
    {
      "cell_type": "code",
      "source": [
        "from google.colab import drive\n",
        "drive.mount('/content/drive')"
      ],
      "metadata": {
        "colab": {
          "base_uri": "https://localhost:8080/"
        },
        "id": "swWwYtuJkEhN",
        "outputId": "d32ebd84-d45f-4924-f3f5-eb008f687a1a"
      },
      "execution_count": 3,
      "outputs": [
        {
          "output_type": "stream",
          "name": "stdout",
          "text": [
            "Mounted at /content/drive\n"
          ]
        }
      ]
    },
    {
      "cell_type": "code",
      "source": [
        "!pip install opencv-python-headless\n",
        "!pip install numpy\n"
      ],
      "metadata": {
        "colab": {
          "base_uri": "https://localhost:8080/"
        },
        "id": "dR5IUWnRqF5T",
        "outputId": "4c11d1e5-0b27-460c-cdef-b726ac45beb3"
      },
      "execution_count": 11,
      "outputs": [
        {
          "output_type": "stream",
          "name": "stdout",
          "text": [
            "Requirement already satisfied: opencv-python-headless in /usr/local/lib/python3.10/dist-packages (4.9.0.80)\n",
            "Requirement already satisfied: numpy>=1.21.2 in /usr/local/lib/python3.10/dist-packages (from opencv-python-headless) (1.25.2)\n",
            "Requirement already satisfied: numpy in /usr/local/lib/python3.10/dist-packages (1.25.2)\n"
          ]
        }
      ]
    },
    {
      "cell_type": "code",
      "execution_count": 15,
      "metadata": {
        "colab": {
          "base_uri": "https://localhost:8080/"
        },
        "id": "sNrD70g0jCEH",
        "outputId": "f579d87b-a554-4bc1-d3e9-16ec7dd5ae32"
      },
      "outputs": [
        {
          "output_type": "stream",
          "name": "stdout",
          "text": [
            "Drive already mounted at /content/drive; to attempt to forcibly remount, call drive.mount(\"/content/drive\", force_remount=True).\n",
            "No existe, se crea la carpeta\n",
            "Archivo creado\n"
          ]
        }
      ],
      "source": [
        "import os\n",
        "import numpy as np\n",
        "import cv2 as cv\n",
        "from google.colab import drive\n",
        "\n",
        "# Montar Google Drive\n",
        "drive.mount('/content/drive')\n",
        "\n",
        "# Definir la ruta al proyecto en Google Drive\n",
        "rutaProyecto = '/content/drive/MyDrive'\n",
        "clases = os.listdir(os.path.join(rutaProyecto, 'BASE_DATOS'))\n",
        "clases_dict = {itemClass: i for i, itemClass in enumerate(clases)}\n",
        "\n",
        "vectorImagenes = []\n",
        "vectorSalida = []\n",
        "\n",
        "# Recorrer todas las clases\n",
        "for clase in clases:\n",
        "    path = os.path.join(rutaProyecto, 'BASE_DATOS', clase)\n",
        "\n",
        "    # Cargar las imágenes de la clase\n",
        "    listaImagenes = os.listdir(path)\n",
        "    # Recorrer todas las imágenes de la clase\n",
        "    for imagen in listaImagenes:\n",
        "        # Leer cada imagen\n",
        "        imgOriginal = cv.imread(os.path.join(path, imagen), 1)\n",
        "        if imgOriginal is None or imgOriginal.shape == (0, 0):\n",
        "            print(\"Error!: \" + os.path.join(path, imagen))\n",
        "        else:\n",
        "            imgFiltered = cv.medianBlur(imgOriginal, 3)\n",
        "            imgResize = cv.resize(imgFiltered, (128, 128), interpolation=cv.INTER_AREA)\n",
        "            vectorImagenes.append(imgResize)\n",
        "            vectorSalida.append(clases_dict[clase])\n",
        "\n",
        "rutaSalida = os.path.join(rutaProyecto, 'BASE_DATOS_SALIDA')\n",
        "if os.path.exists(rutaSalida):\n",
        "    print('Archivo actualizado')\n",
        "    np.save(os.path.join(rutaSalida, 'vectorImagenesCNN'), vectorImagenes)\n",
        "    np.save(os.path.join(rutaSalida, 'vectorYCNN'), vectorSalida)\n",
        "else:\n",
        "    print('No existe, se crea la carpeta')\n",
        "    os.mkdir(rutaSalida)\n",
        "    np.save(os.path.join(rutaSalida, 'vectorImagenesCNN'), vectorImagenes)\n",
        "    np.save(os.path.join(rutaSalida, 'vectorYCNN'), vectorSalida)\n",
        "    print('Archivo creado')\n"
      ]
    },
    {
      "cell_type": "code",
      "source": [],
      "metadata": {
        "id": "S7usjn0bjFzI"
      },
      "execution_count": null,
      "outputs": []
    }
  ]
}